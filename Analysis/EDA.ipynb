{
 "cells": [
  {
   "cell_type": "markdown",
   "id": "6e932952",
   "metadata": {},
   "source": [
    "Exploratory Data Analysis (EDA) & Visualization"
   ]
  },
  {
   "cell_type": "markdown",
   "id": "3958581f",
   "metadata": {},
   "source": [
    "Why: This is fundamental to any data science project and showcases essential skills. Before complex analysis, I need to understand and visualize the data. (almost introducing it)\n",
    "\n",
    "How:\n",
    " Load the JSON data (using pandas in analysisJson.py ).\n",
    " Clean and process the data (handle missing values if any, ensure correct data types).\n",
    "\n",
    "- Create visualizations (using libraries like Matplotlib or Seaborn):\n",
    "- Plot hourly temperature, wind speed, and humidity trends over the forecast period.\n",
    "- Visualize daily max/min temperatures.\n",
    "- Show precipitation probability or amount over time.\n",
    "- Analyze wind direction patterns.\n",
    "\n",
    " Value: Demonstrates data handling, cleaning, and the crucial ability to extract insights through visualization."
   ]
  },
  {
   "cell_type": "code",
   "execution_count": null,
   "id": "abfc76aa",
   "metadata": {},
   "outputs": [],
   "source": []
  }
 ],
 "metadata": {
  "kernelspec": {
   "display_name": "base",
   "language": "python",
   "name": "python3"
  },
  "language_info": {
   "codemirror_mode": {
    "name": "ipython",
    "version": 3
   },
   "file_extension": ".py",
   "mimetype": "text/x-python",
   "name": "python",
   "nbconvert_exporter": "python",
   "pygments_lexer": "ipython3",
   "version": "3.12.7"
  }
 },
 "nbformat": 4,
 "nbformat_minor": 5
}
