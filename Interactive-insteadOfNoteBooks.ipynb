{
 "cells": [
  {
   "cell_type": "markdown",
   "metadata": {},
   "source": [
    "Connected to .venv (Python 3.13.3)"
   ]
  },
  {
   "cell_type": "code",
   "execution_count": null,
   "id": "153d7c98-4123-467a-8def-1333c02dd615",
   "metadata": {},
   "outputs": [
    {
     "name": "stdout",
     "output_type": "stream",
     "text": [
      "21\n"
     ]
    }
   ],
   "source": [
    "print(1 + 2 + 3 + 4 + 5 + 6)"
   ]
  },
  {
   "cell_type": "code",
   "execution_count": null,
   "id": "f94ceef9-cd6e-428d-835b-3e4dd56d9fc4",
   "metadata": {},
   "outputs": [
    {
     "name": "stdout",
     "output_type": "stream",
     "text": [
      "21\n",
      "Use shift + enter To run code in Jupyter interactive window, this way no need for ipynb\n"
     ]
    }
   ],
   "source": [
    "print(1 + 2 + 3 + 4 + 5 + 6)\n",
    "\n",
    "\n",
    "print(\"Use shift + enter To run code in Jupyter interactive window, this way no need for ipynb\")"
   ]
  },
  {
   "cell_type": "code",
   "execution_count": null,
   "id": "0ec47383-af62-4f47-99ca-d6d8bb2fb547",
   "metadata": {},
   "outputs": [],
   "source": [
    "data = {\n",
    "    \"Name\": [\"Jozsi\", \"Geri\"],\n",
    "    \"Tucsok\": [\"cirip\", \"zrzZrr\"],\n",
    "    \"Ret\": [\"Mezo\", \"Erdo\", \"Tisztas\"],\n",
    "}"
   ]
  },
  {
   "cell_type": "code",
   "execution_count": null,
   "id": "91c8e97a-e305-4e54-8667-913f30df7b30",
   "metadata": {},
   "outputs": [],
   "source": [
    "import pandas as pd"
   ]
  },
  {
   "cell_type": "code",
   "execution_count": null,
   "id": "918fdd13-88b0-4046-8920-3174e1aa3c44",
   "metadata": {},
   "outputs": [],
   "source": [
    "data = {\n",
    "    \"Name\": [\"Jozsi\", \"Geri\", \"Hapci\"],\n",
    "    \"Tucsok\": [\"cirip\", \"zrzZrr\", \"prprprr\"],\n",
    "    \"Ret\": [\"Mezo\", \"Erdo\", \"Tisztas\"],\n",
    "}"
   ]
  },
  {
   "cell_type": "code",
   "execution_count": null,
   "id": "034e0e9b-267f-4e74-8af1-c13a6acb11ba",
   "metadata": {},
   "outputs": [],
   "source": [
    "df = pd.DataFrame(data)"
   ]
  },
  {
   "cell_type": "code",
   "execution_count": null,
   "id": "d501e4c1-52ec-4248-b88f-f97ef1cfa3d3",
   "metadata": {},
   "outputs": [
    {
     "data": {
      "application/vnd.microsoft.datawrangler.viewer.v0+json": {
       "columns": [
        {
         "name": "index",
         "rawType": "int64",
         "type": "integer"
        },
        {
         "name": "Name",
         "rawType": "object",
         "type": "string"
        },
        {
         "name": "Tucsok",
         "rawType": "object",
         "type": "string"
        },
        {
         "name": "Ret",
         "rawType": "object",
         "type": "string"
        }
       ],
       "conversionMethod": "pd.DataFrame",
       "ref": "7c8e3fb1-5374-4da7-b82a-519c9b41c561",
       "rows": [
        [
         "0",
         "Jozsi",
         "cirip",
         "Mezo"
        ],
        [
         "1",
         "Geri",
         "zrzZrr",
         "Erdo"
        ]
       ],
       "shape": {
        "columns": 3,
        "rows": 2
       }
      },
      "text/html": [
       "<div>\n",
       "<style scoped>\n",
       "    .dataframe tbody tr th:only-of-type {\n",
       "        vertical-align: middle;\n",
       "    }\n",
       "\n",
       "    .dataframe tbody tr th {\n",
       "        vertical-align: top;\n",
       "    }\n",
       "\n",
       "    .dataframe thead th {\n",
       "        text-align: right;\n",
       "    }\n",
       "</style>\n",
       "<table border=\"1\" class=\"dataframe\">\n",
       "  <thead>\n",
       "    <tr style=\"text-align: right;\">\n",
       "      <th></th>\n",
       "      <th>Name</th>\n",
       "      <th>Tucsok</th>\n",
       "      <th>Ret</th>\n",
       "    </tr>\n",
       "  </thead>\n",
       "  <tbody>\n",
       "    <tr>\n",
       "      <th>0</th>\n",
       "      <td>Jozsi</td>\n",
       "      <td>cirip</td>\n",
       "      <td>Mezo</td>\n",
       "    </tr>\n",
       "    <tr>\n",
       "      <th>1</th>\n",
       "      <td>Geri</td>\n",
       "      <td>zrzZrr</td>\n",
       "      <td>Erdo</td>\n",
       "    </tr>\n",
       "  </tbody>\n",
       "</table>\n",
       "</div>"
      ],
      "text/plain": [
       "    Name  Tucsok   Ret\n",
       "0  Jozsi   cirip  Mezo\n",
       "1   Geri  zrzZrr  Erdo"
      ]
     },
     "execution_count": 11,
     "metadata": {},
     "output_type": "execute_result"
    }
   ],
   "source": [
    "df.head(2)"
   ]
  }
 ],
 "metadata": {
  "kernelspec": {
   "display_name": ".venv",
   "language": "python",
   "name": "python3"
  },
  "language_info": {
   "name": "python",
   "version": "3.13.3"
  }
 },
 "nbformat": 4,
 "nbformat_minor": 5
}
